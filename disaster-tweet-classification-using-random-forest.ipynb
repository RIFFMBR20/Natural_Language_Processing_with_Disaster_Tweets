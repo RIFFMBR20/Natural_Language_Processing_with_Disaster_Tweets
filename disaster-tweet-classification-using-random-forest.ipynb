{
 "cells": [
  {
   "cell_type": "code",
   "execution_count": 1,
   "id": "05dfb211",
   "metadata": {
    "_cell_guid": "b1076dfc-b9ad-4769-8c92-a6c4dae69d19",
    "_uuid": "8f2839f25d086af736a60e9eeb907d3b93b6e0e5",
    "execution": {
     "iopub.execute_input": "2024-05-19T12:01:32.017476Z",
     "iopub.status.busy": "2024-05-19T12:01:32.016496Z",
     "iopub.status.idle": "2024-05-19T12:01:32.999705Z",
     "shell.execute_reply": "2024-05-19T12:01:32.998108Z"
    },
    "papermill": {
     "duration": 0.997103,
     "end_time": "2024-05-19T12:01:33.003007",
     "exception": false,
     "start_time": "2024-05-19T12:01:32.005904",
     "status": "completed"
    },
    "tags": []
   },
   "outputs": [
    {
     "name": "stdout",
     "output_type": "stream",
     "text": [
      "/kaggle/input/nlp-getting-started/sample_submission.csv\n",
      "/kaggle/input/nlp-getting-started/train.csv\n",
      "/kaggle/input/nlp-getting-started/test.csv\n"
     ]
    }
   ],
   "source": [
    "# This Python 3 environment comes with many helpful analytics libraries installed\n",
    "# It is defined by the kaggle/python Docker image: https://github.com/kaggle/docker-python\n",
    "# For example, here's several helpful packages to load\n",
    "\n",
    "import numpy as np # linear algebra\n",
    "import pandas as pd # data processing, CSV file I/O (e.g. pd.read_csv)\n",
    "\n",
    "# Input data files are available in the read-only \"../input/\" directory\n",
    "# For example, running this (by clicking run or pressing Shift+Enter) will list all files under the input directory\n",
    "\n",
    "import os\n",
    "for dirname, _, filenames in os.walk('/kaggle/input'):\n",
    "    for filename in filenames:\n",
    "        print(os.path.join(dirname, filename))\n",
    "\n",
    "# You can write up to 20GB to the current directory (/kaggle/working/) that gets preserved as output when you create a version using \"Save & Run All\" \n",
    "# You can also write temporary files to /kaggle/temp/, but they won't be saved outside of the current session"
   ]
  },
  {
   "cell_type": "code",
   "execution_count": 2,
   "id": "5735aa55",
   "metadata": {
    "execution": {
     "iopub.execute_input": "2024-05-19T12:01:33.018596Z",
     "iopub.status.busy": "2024-05-19T12:01:33.018081Z",
     "iopub.status.idle": "2024-05-19T12:01:34.538074Z",
     "shell.execute_reply": "2024-05-19T12:01:34.536998Z"
    },
    "papermill": {
     "duration": 1.531003,
     "end_time": "2024-05-19T12:01:34.540764",
     "exception": false,
     "start_time": "2024-05-19T12:01:33.009761",
     "status": "completed"
    },
    "tags": []
   },
   "outputs": [],
   "source": [
    "import pandas as pd\n",
    "from sklearn.feature_extraction.text import CountVectorizer\n",
    "from sklearn.model_selection import train_test_split\n",
    "from sklearn.linear_model import LogisticRegression\n",
    "from sklearn.metrics import classification_report"
   ]
  },
  {
   "cell_type": "code",
   "execution_count": 3,
   "id": "29140b27",
   "metadata": {
    "execution": {
     "iopub.execute_input": "2024-05-19T12:01:34.556574Z",
     "iopub.status.busy": "2024-05-19T12:01:34.555304Z",
     "iopub.status.idle": "2024-05-19T12:01:34.632362Z",
     "shell.execute_reply": "2024-05-19T12:01:34.630917Z"
    },
    "papermill": {
     "duration": 0.087802,
     "end_time": "2024-05-19T12:01:34.635162",
     "exception": false,
     "start_time": "2024-05-19T12:01:34.547360",
     "status": "completed"
    },
    "tags": []
   },
   "outputs": [],
   "source": [
    "train_df = pd.read_csv('/kaggle/input/nlp-getting-started/train.csv')\n",
    "test_df = pd.read_csv('/kaggle/input/nlp-getting-started/test.csv')"
   ]
  },
  {
   "cell_type": "code",
   "execution_count": 4,
   "id": "5e8aba7d",
   "metadata": {
    "execution": {
     "iopub.execute_input": "2024-05-19T12:01:34.650550Z",
     "iopub.status.busy": "2024-05-19T12:01:34.650063Z",
     "iopub.status.idle": "2024-05-19T12:01:35.015178Z",
     "shell.execute_reply": "2024-05-19T12:01:35.014115Z"
    },
    "papermill": {
     "duration": 0.375785,
     "end_time": "2024-05-19T12:01:35.017748",
     "exception": false,
     "start_time": "2024-05-19T12:01:34.641963",
     "status": "completed"
    },
    "tags": []
   },
   "outputs": [],
   "source": [
    "vectorizer = CountVectorizer(stop_words='english', max_features=1000)\n",
    "X = vectorizer.fit_transform(train_df['text'])\n",
    "y = train_df['target']"
   ]
  },
  {
   "cell_type": "code",
   "execution_count": 5,
   "id": "4d69aac6",
   "metadata": {
    "execution": {
     "iopub.execute_input": "2024-05-19T12:01:35.033161Z",
     "iopub.status.busy": "2024-05-19T12:01:35.032179Z",
     "iopub.status.idle": "2024-05-19T12:01:35.045625Z",
     "shell.execute_reply": "2024-05-19T12:01:35.044205Z"
    },
    "papermill": {
     "duration": 0.024198,
     "end_time": "2024-05-19T12:01:35.048496",
     "exception": false,
     "start_time": "2024-05-19T12:01:35.024298",
     "status": "completed"
    },
    "tags": []
   },
   "outputs": [],
   "source": [
    "X_train, X_test, y_train, y_test = train_test_split(X, y, test_size = 0.2, random_state = 42)"
   ]
  },
  {
   "cell_type": "code",
   "execution_count": 6,
   "id": "1862ddd6",
   "metadata": {
    "execution": {
     "iopub.execute_input": "2024-05-19T12:01:35.063523Z",
     "iopub.status.busy": "2024-05-19T12:01:35.063110Z",
     "iopub.status.idle": "2024-05-19T12:01:35.163784Z",
     "shell.execute_reply": "2024-05-19T12:01:35.162422Z"
    },
    "papermill": {
     "duration": 0.111239,
     "end_time": "2024-05-19T12:01:35.166300",
     "exception": false,
     "start_time": "2024-05-19T12:01:35.055061",
     "status": "completed"
    },
    "tags": []
   },
   "outputs": [
    {
     "data": {
      "text/html": [
       "<style>#sk-container-id-1 {color: black;background-color: white;}#sk-container-id-1 pre{padding: 0;}#sk-container-id-1 div.sk-toggleable {background-color: white;}#sk-container-id-1 label.sk-toggleable__label {cursor: pointer;display: block;width: 100%;margin-bottom: 0;padding: 0.3em;box-sizing: border-box;text-align: center;}#sk-container-id-1 label.sk-toggleable__label-arrow:before {content: \"▸\";float: left;margin-right: 0.25em;color: #696969;}#sk-container-id-1 label.sk-toggleable__label-arrow:hover:before {color: black;}#sk-container-id-1 div.sk-estimator:hover label.sk-toggleable__label-arrow:before {color: black;}#sk-container-id-1 div.sk-toggleable__content {max-height: 0;max-width: 0;overflow: hidden;text-align: left;background-color: #f0f8ff;}#sk-container-id-1 div.sk-toggleable__content pre {margin: 0.2em;color: black;border-radius: 0.25em;background-color: #f0f8ff;}#sk-container-id-1 input.sk-toggleable__control:checked~div.sk-toggleable__content {max-height: 200px;max-width: 100%;overflow: auto;}#sk-container-id-1 input.sk-toggleable__control:checked~label.sk-toggleable__label-arrow:before {content: \"▾\";}#sk-container-id-1 div.sk-estimator input.sk-toggleable__control:checked~label.sk-toggleable__label {background-color: #d4ebff;}#sk-container-id-1 div.sk-label input.sk-toggleable__control:checked~label.sk-toggleable__label {background-color: #d4ebff;}#sk-container-id-1 input.sk-hidden--visually {border: 0;clip: rect(1px 1px 1px 1px);clip: rect(1px, 1px, 1px, 1px);height: 1px;margin: -1px;overflow: hidden;padding: 0;position: absolute;width: 1px;}#sk-container-id-1 div.sk-estimator {font-family: monospace;background-color: #f0f8ff;border: 1px dotted black;border-radius: 0.25em;box-sizing: border-box;margin-bottom: 0.5em;}#sk-container-id-1 div.sk-estimator:hover {background-color: #d4ebff;}#sk-container-id-1 div.sk-parallel-item::after {content: \"\";width: 100%;border-bottom: 1px solid gray;flex-grow: 1;}#sk-container-id-1 div.sk-label:hover label.sk-toggleable__label {background-color: #d4ebff;}#sk-container-id-1 div.sk-serial::before {content: \"\";position: absolute;border-left: 1px solid gray;box-sizing: border-box;top: 0;bottom: 0;left: 50%;z-index: 0;}#sk-container-id-1 div.sk-serial {display: flex;flex-direction: column;align-items: center;background-color: white;padding-right: 0.2em;padding-left: 0.2em;position: relative;}#sk-container-id-1 div.sk-item {position: relative;z-index: 1;}#sk-container-id-1 div.sk-parallel {display: flex;align-items: stretch;justify-content: center;background-color: white;position: relative;}#sk-container-id-1 div.sk-item::before, #sk-container-id-1 div.sk-parallel-item::before {content: \"\";position: absolute;border-left: 1px solid gray;box-sizing: border-box;top: 0;bottom: 0;left: 50%;z-index: -1;}#sk-container-id-1 div.sk-parallel-item {display: flex;flex-direction: column;z-index: 1;position: relative;background-color: white;}#sk-container-id-1 div.sk-parallel-item:first-child::after {align-self: flex-end;width: 50%;}#sk-container-id-1 div.sk-parallel-item:last-child::after {align-self: flex-start;width: 50%;}#sk-container-id-1 div.sk-parallel-item:only-child::after {width: 0;}#sk-container-id-1 div.sk-dashed-wrapped {border: 1px dashed gray;margin: 0 0.4em 0.5em 0.4em;box-sizing: border-box;padding-bottom: 0.4em;background-color: white;}#sk-container-id-1 div.sk-label label {font-family: monospace;font-weight: bold;display: inline-block;line-height: 1.2em;}#sk-container-id-1 div.sk-label-container {text-align: center;}#sk-container-id-1 div.sk-container {/* jupyter's `normalize.less` sets `[hidden] { display: none; }` but bootstrap.min.css set `[hidden] { display: none !important; }` so we also need the `!important` here to be able to override the default hidden behavior on the sphinx rendered scikit-learn.org. See: https://github.com/scikit-learn/scikit-learn/issues/21755 */display: inline-block !important;position: relative;}#sk-container-id-1 div.sk-text-repr-fallback {display: none;}</style><div id=\"sk-container-id-1\" class=\"sk-top-container\"><div class=\"sk-text-repr-fallback\"><pre>LogisticRegression()</pre><b>In a Jupyter environment, please rerun this cell to show the HTML representation or trust the notebook. <br />On GitHub, the HTML representation is unable to render, please try loading this page with nbviewer.org.</b></div><div class=\"sk-container\" hidden><div class=\"sk-item\"><div class=\"sk-estimator sk-toggleable\"><input class=\"sk-toggleable__control sk-hidden--visually\" id=\"sk-estimator-id-1\" type=\"checkbox\" checked><label for=\"sk-estimator-id-1\" class=\"sk-toggleable__label sk-toggleable__label-arrow\">LogisticRegression</label><div class=\"sk-toggleable__content\"><pre>LogisticRegression()</pre></div></div></div></div></div>"
      ],
      "text/plain": [
       "LogisticRegression()"
      ]
     },
     "execution_count": 6,
     "metadata": {},
     "output_type": "execute_result"
    }
   ],
   "source": [
    "model = LogisticRegression()\n",
    "model.fit(X_train, y_train)"
   ]
  },
  {
   "cell_type": "code",
   "execution_count": 7,
   "id": "31ce120b",
   "metadata": {
    "execution": {
     "iopub.execute_input": "2024-05-19T12:01:35.182390Z",
     "iopub.status.busy": "2024-05-19T12:01:35.181753Z",
     "iopub.status.idle": "2024-05-19T12:01:35.187106Z",
     "shell.execute_reply": "2024-05-19T12:01:35.185891Z"
    },
    "papermill": {
     "duration": 0.016333,
     "end_time": "2024-05-19T12:01:35.189710",
     "exception": false,
     "start_time": "2024-05-19T12:01:35.173377",
     "status": "completed"
    },
    "tags": []
   },
   "outputs": [],
   "source": [
    "y_pred = model.predict(X_test)"
   ]
  },
  {
   "cell_type": "code",
   "execution_count": 8,
   "id": "32b2e0db",
   "metadata": {
    "execution": {
     "iopub.execute_input": "2024-05-19T12:01:35.205455Z",
     "iopub.status.busy": "2024-05-19T12:01:35.205016Z",
     "iopub.status.idle": "2024-05-19T12:01:35.224351Z",
     "shell.execute_reply": "2024-05-19T12:01:35.222442Z"
    },
    "papermill": {
     "duration": 0.030637,
     "end_time": "2024-05-19T12:01:35.227262",
     "exception": false,
     "start_time": "2024-05-19T12:01:35.196625",
     "status": "completed"
    },
    "tags": []
   },
   "outputs": [
    {
     "name": "stdout",
     "output_type": "stream",
     "text": [
      "              precision    recall  f1-score   support\n",
      "\n",
      "           0       0.78      0.86      0.82       874\n",
      "           1       0.78      0.68      0.73       649\n",
      "\n",
      "    accuracy                           0.78      1523\n",
      "   macro avg       0.78      0.77      0.77      1523\n",
      "weighted avg       0.78      0.78      0.78      1523\n",
      "\n"
     ]
    }
   ],
   "source": [
    "print(classification_report(y_test, y_pred))"
   ]
  },
  {
   "cell_type": "code",
   "execution_count": 9,
   "id": "8d72d703",
   "metadata": {
    "execution": {
     "iopub.execute_input": "2024-05-19T12:01:35.244383Z",
     "iopub.status.busy": "2024-05-19T12:01:35.243202Z",
     "iopub.status.idle": "2024-05-19T12:01:35.448215Z",
     "shell.execute_reply": "2024-05-19T12:01:35.447035Z"
    },
    "papermill": {
     "duration": 0.216714,
     "end_time": "2024-05-19T12:01:35.451177",
     "exception": false,
     "start_time": "2024-05-19T12:01:35.234463",
     "status": "completed"
    },
    "tags": []
   },
   "outputs": [],
   "source": [
    "from sklearn.ensemble import RandomForestClassifier"
   ]
  },
  {
   "cell_type": "code",
   "execution_count": 10,
   "id": "5cf0fd8d",
   "metadata": {
    "execution": {
     "iopub.execute_input": "2024-05-19T12:01:35.467087Z",
     "iopub.status.busy": "2024-05-19T12:01:35.466693Z",
     "iopub.status.idle": "2024-05-19T12:01:35.471877Z",
     "shell.execute_reply": "2024-05-19T12:01:35.470746Z"
    },
    "papermill": {
     "duration": 0.016436,
     "end_time": "2024-05-19T12:01:35.474597",
     "exception": false,
     "start_time": "2024-05-19T12:01:35.458161",
     "status": "completed"
    },
    "tags": []
   },
   "outputs": [],
   "source": [
    "from sklearn.model_selection import GridSearchCV"
   ]
  },
  {
   "cell_type": "code",
   "execution_count": 11,
   "id": "7b25da73",
   "metadata": {
    "execution": {
     "iopub.execute_input": "2024-05-19T12:01:35.490447Z",
     "iopub.status.busy": "2024-05-19T12:01:35.489995Z",
     "iopub.status.idle": "2024-05-19T12:01:35.496295Z",
     "shell.execute_reply": "2024-05-19T12:01:35.495107Z"
    },
    "papermill": {
     "duration": 0.017605,
     "end_time": "2024-05-19T12:01:35.499097",
     "exception": false,
     "start_time": "2024-05-19T12:01:35.481492",
     "status": "completed"
    },
    "tags": []
   },
   "outputs": [],
   "source": [
    "param_grid = {\n",
    "    'n_estimators': [100, 200],\n",
    "    'max_depth': [10, 20, None],\n",
    "    'min_samples_split': [2, 5],\n",
    "    'min_samples_leaf': [1, 2]\n",
    "}"
   ]
  },
  {
   "cell_type": "code",
   "execution_count": 12,
   "id": "bc03a4b4",
   "metadata": {
    "execution": {
     "iopub.execute_input": "2024-05-19T12:01:35.515548Z",
     "iopub.status.busy": "2024-05-19T12:01:35.515111Z",
     "iopub.status.idle": "2024-05-19T12:02:18.080903Z",
     "shell.execute_reply": "2024-05-19T12:02:18.079441Z"
    },
    "papermill": {
     "duration": 42.584627,
     "end_time": "2024-05-19T12:02:18.090764",
     "exception": false,
     "start_time": "2024-05-19T12:01:35.506137",
     "status": "completed"
    },
    "tags": []
   },
   "outputs": [
    {
     "name": "stdout",
     "output_type": "stream",
     "text": [
      "Fitting 3 folds for each of 24 candidates, totalling 72 fits\n"
     ]
    },
    {
     "data": {
      "text/html": [
       "<style>#sk-container-id-2 {color: black;background-color: white;}#sk-container-id-2 pre{padding: 0;}#sk-container-id-2 div.sk-toggleable {background-color: white;}#sk-container-id-2 label.sk-toggleable__label {cursor: pointer;display: block;width: 100%;margin-bottom: 0;padding: 0.3em;box-sizing: border-box;text-align: center;}#sk-container-id-2 label.sk-toggleable__label-arrow:before {content: \"▸\";float: left;margin-right: 0.25em;color: #696969;}#sk-container-id-2 label.sk-toggleable__label-arrow:hover:before {color: black;}#sk-container-id-2 div.sk-estimator:hover label.sk-toggleable__label-arrow:before {color: black;}#sk-container-id-2 div.sk-toggleable__content {max-height: 0;max-width: 0;overflow: hidden;text-align: left;background-color: #f0f8ff;}#sk-container-id-2 div.sk-toggleable__content pre {margin: 0.2em;color: black;border-radius: 0.25em;background-color: #f0f8ff;}#sk-container-id-2 input.sk-toggleable__control:checked~div.sk-toggleable__content {max-height: 200px;max-width: 100%;overflow: auto;}#sk-container-id-2 input.sk-toggleable__control:checked~label.sk-toggleable__label-arrow:before {content: \"▾\";}#sk-container-id-2 div.sk-estimator input.sk-toggleable__control:checked~label.sk-toggleable__label {background-color: #d4ebff;}#sk-container-id-2 div.sk-label input.sk-toggleable__control:checked~label.sk-toggleable__label {background-color: #d4ebff;}#sk-container-id-2 input.sk-hidden--visually {border: 0;clip: rect(1px 1px 1px 1px);clip: rect(1px, 1px, 1px, 1px);height: 1px;margin: -1px;overflow: hidden;padding: 0;position: absolute;width: 1px;}#sk-container-id-2 div.sk-estimator {font-family: monospace;background-color: #f0f8ff;border: 1px dotted black;border-radius: 0.25em;box-sizing: border-box;margin-bottom: 0.5em;}#sk-container-id-2 div.sk-estimator:hover {background-color: #d4ebff;}#sk-container-id-2 div.sk-parallel-item::after {content: \"\";width: 100%;border-bottom: 1px solid gray;flex-grow: 1;}#sk-container-id-2 div.sk-label:hover label.sk-toggleable__label {background-color: #d4ebff;}#sk-container-id-2 div.sk-serial::before {content: \"\";position: absolute;border-left: 1px solid gray;box-sizing: border-box;top: 0;bottom: 0;left: 50%;z-index: 0;}#sk-container-id-2 div.sk-serial {display: flex;flex-direction: column;align-items: center;background-color: white;padding-right: 0.2em;padding-left: 0.2em;position: relative;}#sk-container-id-2 div.sk-item {position: relative;z-index: 1;}#sk-container-id-2 div.sk-parallel {display: flex;align-items: stretch;justify-content: center;background-color: white;position: relative;}#sk-container-id-2 div.sk-item::before, #sk-container-id-2 div.sk-parallel-item::before {content: \"\";position: absolute;border-left: 1px solid gray;box-sizing: border-box;top: 0;bottom: 0;left: 50%;z-index: -1;}#sk-container-id-2 div.sk-parallel-item {display: flex;flex-direction: column;z-index: 1;position: relative;background-color: white;}#sk-container-id-2 div.sk-parallel-item:first-child::after {align-self: flex-end;width: 50%;}#sk-container-id-2 div.sk-parallel-item:last-child::after {align-self: flex-start;width: 50%;}#sk-container-id-2 div.sk-parallel-item:only-child::after {width: 0;}#sk-container-id-2 div.sk-dashed-wrapped {border: 1px dashed gray;margin: 0 0.4em 0.5em 0.4em;box-sizing: border-box;padding-bottom: 0.4em;background-color: white;}#sk-container-id-2 div.sk-label label {font-family: monospace;font-weight: bold;display: inline-block;line-height: 1.2em;}#sk-container-id-2 div.sk-label-container {text-align: center;}#sk-container-id-2 div.sk-container {/* jupyter's `normalize.less` sets `[hidden] { display: none; }` but bootstrap.min.css set `[hidden] { display: none !important; }` so we also need the `!important` here to be able to override the default hidden behavior on the sphinx rendered scikit-learn.org. See: https://github.com/scikit-learn/scikit-learn/issues/21755 */display: inline-block !important;position: relative;}#sk-container-id-2 div.sk-text-repr-fallback {display: none;}</style><div id=\"sk-container-id-2\" class=\"sk-top-container\"><div class=\"sk-text-repr-fallback\"><pre>GridSearchCV(cv=3, estimator=RandomForestClassifier(random_state=42), n_jobs=-1,\n",
       "             param_grid={&#x27;max_depth&#x27;: [10, 20, None],\n",
       "                         &#x27;min_samples_leaf&#x27;: [1, 2],\n",
       "                         &#x27;min_samples_split&#x27;: [2, 5],\n",
       "                         &#x27;n_estimators&#x27;: [100, 200]},\n",
       "             verbose=2)</pre><b>In a Jupyter environment, please rerun this cell to show the HTML representation or trust the notebook. <br />On GitHub, the HTML representation is unable to render, please try loading this page with nbviewer.org.</b></div><div class=\"sk-container\" hidden><div class=\"sk-item sk-dashed-wrapped\"><div class=\"sk-label-container\"><div class=\"sk-label sk-toggleable\"><input class=\"sk-toggleable__control sk-hidden--visually\" id=\"sk-estimator-id-2\" type=\"checkbox\" ><label for=\"sk-estimator-id-2\" class=\"sk-toggleable__label sk-toggleable__label-arrow\">GridSearchCV</label><div class=\"sk-toggleable__content\"><pre>GridSearchCV(cv=3, estimator=RandomForestClassifier(random_state=42), n_jobs=-1,\n",
       "             param_grid={&#x27;max_depth&#x27;: [10, 20, None],\n",
       "                         &#x27;min_samples_leaf&#x27;: [1, 2],\n",
       "                         &#x27;min_samples_split&#x27;: [2, 5],\n",
       "                         &#x27;n_estimators&#x27;: [100, 200]},\n",
       "             verbose=2)</pre></div></div></div><div class=\"sk-parallel\"><div class=\"sk-parallel-item\"><div class=\"sk-item\"><div class=\"sk-label-container\"><div class=\"sk-label sk-toggleable\"><input class=\"sk-toggleable__control sk-hidden--visually\" id=\"sk-estimator-id-3\" type=\"checkbox\" ><label for=\"sk-estimator-id-3\" class=\"sk-toggleable__label sk-toggleable__label-arrow\">estimator: RandomForestClassifier</label><div class=\"sk-toggleable__content\"><pre>RandomForestClassifier(random_state=42)</pre></div></div></div><div class=\"sk-serial\"><div class=\"sk-item\"><div class=\"sk-estimator sk-toggleable\"><input class=\"sk-toggleable__control sk-hidden--visually\" id=\"sk-estimator-id-4\" type=\"checkbox\" ><label for=\"sk-estimator-id-4\" class=\"sk-toggleable__label sk-toggleable__label-arrow\">RandomForestClassifier</label><div class=\"sk-toggleable__content\"><pre>RandomForestClassifier(random_state=42)</pre></div></div></div></div></div></div></div></div></div></div>"
      ],
      "text/plain": [
       "GridSearchCV(cv=3, estimator=RandomForestClassifier(random_state=42), n_jobs=-1,\n",
       "             param_grid={'max_depth': [10, 20, None],\n",
       "                         'min_samples_leaf': [1, 2],\n",
       "                         'min_samples_split': [2, 5],\n",
       "                         'n_estimators': [100, 200]},\n",
       "             verbose=2)"
      ]
     },
     "execution_count": 12,
     "metadata": {},
     "output_type": "execute_result"
    }
   ],
   "source": [
    "rf_model = RandomForestClassifier(random_state=42)\n",
    "grid_search = GridSearchCV(rf_model, param_grid, cv=3, n_jobs=-1, verbose=2)\n",
    "grid_search.fit(X_train, y_train)"
   ]
  },
  {
   "cell_type": "code",
   "execution_count": 13,
   "id": "c02ea58f",
   "metadata": {
    "execution": {
     "iopub.execute_input": "2024-05-19T12:02:18.108135Z",
     "iopub.status.busy": "2024-05-19T12:02:18.107686Z",
     "iopub.status.idle": "2024-05-19T12:02:18.113464Z",
     "shell.execute_reply": "2024-05-19T12:02:18.112235Z"
    },
    "papermill": {
     "duration": 0.017974,
     "end_time": "2024-05-19T12:02:18.116194",
     "exception": false,
     "start_time": "2024-05-19T12:02:18.098220",
     "status": "completed"
    },
    "tags": []
   },
   "outputs": [],
   "source": [
    "best_model = grid_search.best_estimator_"
   ]
  },
  {
   "cell_type": "code",
   "execution_count": 14,
   "id": "866daefb",
   "metadata": {
    "execution": {
     "iopub.execute_input": "2024-05-19T12:02:18.133226Z",
     "iopub.status.busy": "2024-05-19T12:02:18.132793Z",
     "iopub.status.idle": "2024-05-19T12:02:18.137655Z",
     "shell.execute_reply": "2024-05-19T12:02:18.136426Z"
    },
    "papermill": {
     "duration": 0.016331,
     "end_time": "2024-05-19T12:02:18.140227",
     "exception": false,
     "start_time": "2024-05-19T12:02:18.123896",
     "status": "completed"
    },
    "tags": []
   },
   "outputs": [],
   "source": [
    "from sklearn.metrics import accuracy_score"
   ]
  },
  {
   "cell_type": "code",
   "execution_count": 15,
   "id": "310ef9d3",
   "metadata": {
    "execution": {
     "iopub.execute_input": "2024-05-19T12:02:18.156884Z",
     "iopub.status.busy": "2024-05-19T12:02:18.156475Z",
     "iopub.status.idle": "2024-05-19T12:02:18.365889Z",
     "shell.execute_reply": "2024-05-19T12:02:18.364808Z"
    },
    "papermill": {
     "duration": 0.221031,
     "end_time": "2024-05-19T12:02:18.368804",
     "exception": false,
     "start_time": "2024-05-19T12:02:18.147773",
     "status": "completed"
    },
    "tags": []
   },
   "outputs": [
    {
     "name": "stdout",
     "output_type": "stream",
     "text": [
      "Validation Accuracy: 0.7866053841103086\n",
      "              precision    recall  f1-score   support\n",
      "\n",
      "           0       0.79      0.86      0.82       874\n",
      "           1       0.78      0.69      0.73       649\n",
      "\n",
      "    accuracy                           0.79      1523\n",
      "   macro avg       0.79      0.77      0.78      1523\n",
      "weighted avg       0.79      0.79      0.78      1523\n",
      "\n"
     ]
    }
   ],
   "source": [
    "y_pred = best_model.predict(X_test)\n",
    "print(f'Validation Accuracy: {accuracy_score(y_test, y_pred)}')\n",
    "print(classification_report(y_test, y_pred))"
   ]
  },
  {
   "cell_type": "code",
   "execution_count": 16,
   "id": "0d504c3b",
   "metadata": {
    "execution": {
     "iopub.execute_input": "2024-05-19T12:02:18.385552Z",
     "iopub.status.busy": "2024-05-19T12:02:18.385086Z",
     "iopub.status.idle": "2024-05-19T12:02:18.848139Z",
     "shell.execute_reply": "2024-05-19T12:02:18.846950Z"
    },
    "papermill": {
     "duration": 0.474843,
     "end_time": "2024-05-19T12:02:18.851018",
     "exception": false,
     "start_time": "2024-05-19T12:02:18.376175",
     "status": "completed"
    },
    "tags": []
   },
   "outputs": [],
   "source": [
    "X_test = vectorizer.transform(test_df['text'])\n",
    "test_df['target'] = best_model.predict(X_test)"
   ]
  },
  {
   "cell_type": "code",
   "execution_count": 17,
   "id": "36de9b2c",
   "metadata": {
    "execution": {
     "iopub.execute_input": "2024-05-19T12:02:18.867840Z",
     "iopub.status.busy": "2024-05-19T12:02:18.867406Z",
     "iopub.status.idle": "2024-05-19T12:02:18.886209Z",
     "shell.execute_reply": "2024-05-19T12:02:18.884834Z"
    },
    "papermill": {
     "duration": 0.030498,
     "end_time": "2024-05-19T12:02:18.889083",
     "exception": false,
     "start_time": "2024-05-19T12:02:18.858585",
     "status": "completed"
    },
    "tags": []
   },
   "outputs": [],
   "source": [
    "submission_df = test_df[['id', 'target']]\n",
    "submission_df.to_csv('submission.csv', index=False)"
   ]
  }
 ],
 "metadata": {
  "kaggle": {
   "accelerator": "none",
   "dataSources": [
    {
     "databundleVersionId": 869809,
     "sourceId": 17777,
     "sourceType": "competition"
    }
   ],
   "dockerImageVersionId": 30698,
   "isGpuEnabled": false,
   "isInternetEnabled": false,
   "language": "python",
   "sourceType": "notebook"
  },
  "kernelspec": {
   "display_name": "Python 3",
   "language": "python",
   "name": "python3"
  },
  "language_info": {
   "codemirror_mode": {
    "name": "ipython",
    "version": 3
   },
   "file_extension": ".py",
   "mimetype": "text/x-python",
   "name": "python",
   "nbconvert_exporter": "python",
   "pygments_lexer": "ipython3",
   "version": "3.10.13"
  },
  "papermill": {
   "default_parameters": {},
   "duration": 52.594211,
   "end_time": "2024-05-19T12:02:21.518573",
   "environment_variables": {},
   "exception": null,
   "input_path": "__notebook__.ipynb",
   "output_path": "__notebook__.ipynb",
   "parameters": {},
   "start_time": "2024-05-19T12:01:28.924362",
   "version": "2.5.0"
  }
 },
 "nbformat": 4,
 "nbformat_minor": 5
}
